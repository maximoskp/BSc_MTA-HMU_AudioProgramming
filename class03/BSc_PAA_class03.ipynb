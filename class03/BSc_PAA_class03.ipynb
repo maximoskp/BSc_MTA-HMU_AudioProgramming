{
  "nbformat": 4,
  "nbformat_minor": 0,
  "metadata": {
    "colab": {
      "name": "BSc_PAA_class03.ipynb",
      "provenance": [],
      "collapsed_sections": []
    },
    "kernelspec": {
      "name": "python3",
      "display_name": "Python 3"
    },
    "language_info": {
      "name": "python"
    }
  },
  "cells": [
    {
      "cell_type": "code",
      "metadata": {
        "colab": {
          "base_uri": "https://localhost:8080/"
        },
        "id": "eTz4gotrYZYg",
        "outputId": "ad8b8006-001c-480d-883d-e2c1e5353073"
      },
      "source": [
        "# revision\n",
        "x = 5\n",
        "y = 6\n",
        "x + y\n",
        "print(x+y)"
      ],
      "execution_count": null,
      "outputs": [
        {
          "output_type": "stream",
          "name": "stdout",
          "text": [
            "11\n"
          ]
        }
      ]
    },
    {
      "cell_type": "markdown",
      "metadata": {
        "id": "lFa5DAoLaJbS"
      },
      "source": [
        "The following cell describes printing behaviour"
      ]
    },
    {
      "cell_type": "code",
      "metadata": {
        "colab": {
          "base_uri": "https://localhost:8080/"
        },
        "id": "zBzkpKdcaZ1e",
        "outputId": "bdd223e5-0a5f-481f-9b1a-6f3121dd9c10"
      },
      "source": [
        "# strings\n",
        "s = 'lala'\n",
        "\n",
        "# print string directly\n",
        "print(s)\n",
        "print('I am a string')\n",
        "\n",
        "# string concatenation\n",
        "r = 'lolo'\n",
        "t = s + r\n",
        "print(t)\n",
        "\n",
        "# printing non-string types\n",
        "x = 5\n",
        "print(x)\n",
        "# show variable content\n",
        "print('the value of x is:', x)\n",
        "# this will not work:\n",
        "# print('the value of x is:' + x) # TypeError: can only concatenate str (not \"int\") to str\n",
        "# this will work:\n",
        "print('the value of x is: ' + str(x)) # notice the ' ' after ':'\n",
        "y = 6\n",
        "print('the value of x is: ' + str(x + y))\n",
        "print('the value of x is: ' + str(x) + str(y))\n",
        "print('the value of x is: ' + str(x) + '+' + str(y))\n",
        "print('the value of x is: ' + str(x) + ' + ' + str(y))\n",
        "c = 1/3\n",
        "print('rational number: ' + str(c))\n",
        "print('rational number: {:.2f}'.format(c))"
      ],
      "execution_count": null,
      "outputs": [
        {
          "output_type": "stream",
          "name": "stdout",
          "text": [
            "lala\n",
            "I am a string\n",
            "lalalolo\n",
            "5\n",
            "the value of x is: 5\n",
            "the value of x is: 5\n",
            "the value of x is: 11\n",
            "the value of x is: 56\n",
            "the value of x is: 5+6\n",
            "the value of x is: 5 + 6\n",
            "rational number: 0.3333333333333333\n",
            "rational number: 1.12\n"
          ]
        }
      ]
    },
    {
      "cell_type": "code",
      "metadata": {
        "colab": {
          "base_uri": "https://localhost:8080/"
        },
        "id": "NLZOnL2ojsm5",
        "outputId": "2f0b9479-3553-425f-a787-0d88c556dc5e"
      },
      "source": [
        "# id function\n",
        "x = 5\n",
        "x_id = id(x)\n",
        "print('x_id:', x_id)\n",
        "\n",
        "# y = 6\n",
        "# y_id = id(y)\n",
        "# print('y_id:', y_id)\n",
        "\n",
        "y = x\n",
        "y_id = id(y)\n",
        "print('y_id:', y_id)"
      ],
      "execution_count": null,
      "outputs": [
        {
          "output_type": "stream",
          "name": "stdout",
          "text": [
            "x_id: 94837476514432\n",
            "y_id: 94837476514432\n"
          ]
        }
      ]
    },
    {
      "cell_type": "code",
      "metadata": {
        "colab": {
          "base_uri": "https://localhost:8080/"
        },
        "id": "LfXQPwlalSsx",
        "outputId": "2e3b2e0c-0494-4454-a8c8-a218c81e7996"
      },
      "source": [
        "# id with lists different ids per instantiation\n",
        "x = [1,2,3]\n",
        "x_id = id(x)\n",
        "print('x_id:', x_id)\n",
        "\n",
        "x = [1,2,3]\n",
        "x_id = id(x)\n",
        "print('x_id:', x_id)"
      ],
      "execution_count": null,
      "outputs": [
        {
          "output_type": "stream",
          "name": "stdout",
          "text": [
            "x_id: 140289096289888\n",
            "x_id: 140289164649488\n"
          ]
        }
      ]
    },
    {
      "cell_type": "code",
      "metadata": {
        "colab": {
          "base_uri": "https://localhost:8080/"
        },
        "id": "5GfzQXtwl56p",
        "outputId": "15fa2831-8e61-4a5d-c792-b5613b972c24"
      },
      "source": [
        "# id with lists - different instanses\n",
        "x = [1,2,3]\n",
        "x_id = id(x)\n",
        "print('x_id:', x_id)\n",
        "\n",
        "y = x\n",
        "\n",
        "y_id = id(y)\n",
        "print('y_id:', y_id)\n",
        "\n",
        "y = [4,5,6] # VARIABLE = ... then VARIABLE takes a new id\n",
        "y_id = id(y)\n",
        "print('y_id:', y_id)\n",
        "\n",
        "print('x: ', x)\n",
        "print('y: ', y)"
      ],
      "execution_count": null,
      "outputs": [
        {
          "output_type": "stream",
          "name": "stdout",
          "text": [
            "x_id: 140289096580704\n",
            "y_id: 140289096641424\n",
            "y_id: 140289096580704\n",
            "x:  [4, 5, 6]\n",
            "y:  [4, 5, 6]\n"
          ]
        }
      ]
    },
    {
      "cell_type": "code",
      "metadata": {
        "colab": {
          "base_uri": "https://localhost:8080/"
        },
        "id": "ydJNPWsqmf52",
        "outputId": "bb0f2b1e-f676-4a7f-f4f9-1db1a55d5919"
      },
      "source": [
        "# id with lists - same instance instanses\n",
        "x = [1,2,3]\n",
        "x_id = id(x)\n",
        "print('x_id:', x_id)\n",
        "\n",
        "y = x # y = [1,2,3]\n",
        "y_id = id(y)\n",
        "print('y_id:', y_id)\n",
        "\n",
        "# make y=[4,5,6], as above, but element-by-element\n",
        "y[0] = 4\n",
        "y[1] = 5\n",
        "y[2] = 6\n",
        "y_id = id(y)\n",
        "print('y_id:', y_id)\n",
        "\n",
        "print('x: ', x)\n",
        "print('y: ', y)"
      ],
      "execution_count": null,
      "outputs": [
        {
          "output_type": "stream",
          "name": "stdout",
          "text": [
            "x_id: 140289096641424\n",
            "y_id: 140289096641424\n",
            "y_id: 140289096641424\n",
            "x:  [4, 5, 6]\n",
            "y:  [4, 5, 6]\n"
          ]
        }
      ]
    },
    {
      "cell_type": "code",
      "metadata": {
        "colab": {
          "base_uri": "https://localhost:8080/"
        },
        "id": "d1Rp9MMzohLP",
        "outputId": "4acf742f-c9b5-4a6b-cc3d-77216cc4d8f8"
      },
      "source": [
        "x = 5\n",
        "y = 6\n",
        "\n",
        "print('x == y: ', y==x) # is x the same as y?\n",
        "\n",
        "y = x # assignment: left-side from the operant (τελεστής) takes value of right-side\n",
        "print('y:', y)\n",
        "print('x == y: ', y==x) # is x the same as y?\n",
        "\n",
        "# ========================================\n",
        "\n",
        "x = 5\n",
        "y = 6\n",
        "\n",
        "x = y\n",
        "print('x: ', x)"
      ],
      "execution_count": null,
      "outputs": [
        {
          "output_type": "stream",
          "name": "stdout",
          "text": [
            "x == y:  False\n",
            "y: 5\n",
            "x == y:  True\n",
            "x:  6\n"
          ]
        }
      ]
    },
    {
      "cell_type": "code",
      "metadata": {
        "colab": {
          "base_uri": "https://localhost:8080/"
        },
        "id": "IhQVcQZMpxfy",
        "outputId": "7798aed7-5718-41ac-965e-a68243b7b55b"
      },
      "source": [
        "# sets, lists and dictionaries\n",
        "# set\n",
        "s = {1,2,3,4,2,1,3,5,6,6,4,2,5,7}\n",
        "print('set s: ', s)\n",
        "s1 = {3,2,1}\n",
        "s2 = {2,1,2,2,3,1,2,3,1,2,3,1,2}\n",
        "print('s1 == s2: ', s1 == s2)\n",
        "\n",
        "# list\n",
        "l1 = [1,2,3]\n",
        "l2 = [1,2,3,2]\n",
        "print('l1 == l2: ', l1 == l2)\n",
        "# retrieving by index\n",
        "x = l1[2]\n",
        "print('x: ', x)"
      ],
      "execution_count": null,
      "outputs": [
        {
          "output_type": "stream",
          "name": "stdout",
          "text": [
            "set s:  {1, 2, 3, 4, 5, 6, 7}\n",
            "s1 == s2:  True\n",
            "l1 == l2:  False\n",
            "x:  3\n"
          ]
        }
      ]
    },
    {
      "cell_type": "code",
      "metadata": {
        "colab": {
          "base_uri": "https://localhost:8080/"
        },
        "id": "t-bXxBocqndp",
        "outputId": "98712a63-1d8d-4ff3-b2db-813edcab20ca"
      },
      "source": [
        "# dictionaries: retrieving by key\n",
        "d = {\n",
        "    'name': 'Max',\n",
        "    'height': 1.69,\n",
        "    'laptops_owned': ['macbook', 'lenovo', 'dell'],\n",
        "    'is_clever': False\n",
        "}\n",
        "\n",
        "print('d: ', d)\n",
        "\n",
        "# retrieving by key\n",
        "n = d['name']\n",
        "print('n:', n)\n",
        "laptop1 = d['laptops_owned'][1]\n",
        "print('laptop1:', laptop1)\n",
        "\n",
        "d = {\n",
        "    'name': 'Max',\n",
        "    'height': 1.69,\n",
        "    'laptops_owned': [\n",
        "        {\n",
        "            'brand': 'macbook',\n",
        "            'ram': 8\n",
        "        },\n",
        "        {\n",
        "            'brand': 'dell',\n",
        "            'ram': 16\n",
        "        }\n",
        "    ],\n",
        "    'is_clever': False\n",
        "}\n",
        "\n",
        "print('d:', d)\n",
        "ram_value_of_laptop1 = d['laptops_owned'][1]['ram']\n",
        "print('ram_value_of_laptop1:', ram_value_of_laptop1)\n",
        "\n",
        "# get all keys of dictionary\n",
        "k = d.keys()\n",
        "print(k)\n",
        "v = d.values()\n",
        "print(v)\n",
        "\n",
        "# deleting key-value pair\n",
        "del d['laptops_owned']\n",
        "print('d:', d)\n",
        "# add new key-value pair\n",
        "d['cars_owned'] = ['ferrari', 'prosche', 'lada niva']\n",
        "print('d:', d)"
      ],
      "execution_count": null,
      "outputs": [
        {
          "output_type": "stream",
          "name": "stdout",
          "text": [
            "d:  {'name': 'Max', 'height': 1.69, 'laptops_owned': ['macbook', 'lenovo', 'dell'], 'is_clever': False}\n",
            "n: Max\n",
            "laptop1: lenovo\n",
            "d: {'name': 'Max', 'height': 1.69, 'laptops_owned': [{'brand': 'macbook', 'ram': 8}, {'brand': 'dell', 'ram': 16}], 'is_clever': False}\n",
            "ram_value_of_laptop1: 16\n",
            "dict_keys(['name', 'height', 'laptops_owned', 'is_clever'])\n",
            "dict_values(['Max', 1.69, [{'brand': 'macbook', 'ram': 8}, {'brand': 'dell', 'ram': 16}], False])\n",
            "d: {'name': 'Max', 'height': 1.69, 'is_clever': False}\n",
            "d: {'name': 'Max', 'height': 1.69, 'is_clever': False, 'cars_owned': ['ferrari', 'prosche', 'lada niva']}\n"
          ]
        }
      ]
    },
    {
      "cell_type": "code",
      "metadata": {
        "colab": {
          "base_uri": "https://localhost:8080/"
        },
        "id": "5OQuAx8guejO",
        "outputId": "7914f60f-7131-44ff-cb49-90e77abee64f"
      },
      "source": [
        "# id and content alteration in dictionaries\n",
        "d = {\n",
        "    'name': 'Max',\n",
        "    'height': 1.69,\n",
        "    'laptops_owned': ['macbook', 'lenovo', 'dell'],\n",
        "    'is_clever': False\n",
        "}\n",
        "\n",
        "g = d # shallow copy - same id\n",
        "print('id of d: ', id(d))\n",
        "print('id of g: ', id(g))\n",
        "\n",
        "print('g: ', g)\n",
        "g['name'] = 'Giorgos' # changes in d - same id\n",
        "\n",
        "print('d: ', d)"
      ],
      "execution_count": null,
      "outputs": [
        {
          "output_type": "stream",
          "name": "stdout",
          "text": [
            "id of d:  140289095444272\n",
            "id of g:  140289095444272\n",
            "g:  {'name': 'Max', 'height': 1.69, 'laptops_owned': ['macbook', 'lenovo', 'dell'], 'is_clever': False}\n",
            "d:  {'name': 'Giorgos', 'height': 1.69, 'laptops_owned': ['macbook', 'lenovo', 'dell'], 'is_clever': False}\n"
          ]
        }
      ]
    },
    {
      "cell_type": "code",
      "metadata": {
        "colab": {
          "base_uri": "https://localhost:8080/"
        },
        "id": "q9JCn-6QvUkc",
        "outputId": "6e552693-5c53-460a-da15-857ac06b3adc"
      },
      "source": [
        "import copy\n",
        "# id and content alteration in dictionaries\n",
        "d = {\n",
        "    'name': 'Max',\n",
        "    'height': 1.69,\n",
        "    'laptops_owned': ['macbook', 'lenovo', 'dell'],\n",
        "    'is_clever': False\n",
        "}\n",
        "\n",
        "# g = d # shallow copy - same id\n",
        "# do deep copy instead\n",
        "g = copy.deepcopy( d )\n",
        "print('id of d: ', id(d))\n",
        "print('id of g: ', id(g))\n",
        "\n",
        "print('g: ', g)\n",
        "g['name'] = 'Giorgos' # changes in d - same id\n",
        "\n",
        "print('d: ', d)"
      ],
      "execution_count": null,
      "outputs": [
        {
          "output_type": "stream",
          "name": "stdout",
          "text": [
            "id of d:  140289095586752\n",
            "id of g:  140289095587552\n",
            "g:  {'name': 'Max', 'height': 1.69, 'laptops_owned': ['macbook', 'lenovo', 'dell'], 'is_clever': False}\n",
            "d:  {'name': 'Max', 'height': 1.69, 'laptops_owned': ['macbook', 'lenovo', 'dell'], 'is_clever': False}\n"
          ]
        }
      ]
    }
  ]
}