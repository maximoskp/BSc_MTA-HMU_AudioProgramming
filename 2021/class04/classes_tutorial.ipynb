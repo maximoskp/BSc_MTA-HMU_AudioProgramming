{
  "nbformat": 4,
  "nbformat_minor": 0,
  "metadata": {
    "colab": {
      "name": "classes_tutorial.ipynb",
      "provenance": [],
      "collapsed_sections": []
    },
    "kernelspec": {
      "name": "python3",
      "display_name": "Python 3"
    },
    "language_info": {
      "name": "python"
    }
  },
  "cells": [
    {
      "cell_type": "code",
      "metadata": {
        "id": "AUgscv57nZ9G"
      },
      "source": [
        "# make a basic class or Human\n",
        "class Human:\n",
        "    def __init__(self, age, gender='F', name=None):\n",
        "        self.age = age\n",
        "        self.gender = gender\n",
        "        self.name = name\n",
        "        self.check_if_adult()\n",
        "    # end __init__\n",
        "\n",
        "    def check_if_adult(self):\n",
        "        self.is_adult = False\n",
        "        if self.age >= 18:\n",
        "            self.is_adult = True\n",
        "    # end check_if_adult\n",
        "\n",
        "    def print_info(self):\n",
        "        print('age:         ', self.age)\n",
        "        print('gender:      ', self.gender)\n",
        "        print('name:        ', self.name)\n",
        "        print('is_adult:    ', self.is_adult)\n",
        "# end Human"
      ],
      "execution_count": null,
      "outputs": []
    },
    {
      "cell_type": "code",
      "metadata": {
        "colab": {
          "base_uri": "https://localhost:8080/"
        },
        "id": "BrDvW5aNokgu",
        "outputId": "0edb0497-37b4-4062-f650-26f12bc14e9e"
      },
      "source": [
        "# initialize object of the Human class: age is mantatory\n",
        "test_human = Human(24)\n",
        "# check state\n",
        "test_human.print_info()"
      ],
      "execution_count": null,
      "outputs": [
        {
          "output_type": "stream",
          "name": "stdout",
          "text": [
            "age:          24\n",
            "gender:       F\n",
            "name:         None\n",
            "is_adult:     True\n"
          ]
        }
      ]
    },
    {
      "cell_type": "code",
      "metadata": {
        "colab": {
          "base_uri": "https://localhost:8080/"
        },
        "id": "TbX8FDXEpwBc",
        "outputId": "fc4c6560-223a-47b3-ce05-162c1c990d48"
      },
      "source": [
        "# initialize object of the Human class with some additional info\n",
        "test_human = Human(15, name='CJ')\n",
        "# check state\n",
        "test_human.print_info()"
      ],
      "execution_count": null,
      "outputs": [
        {
          "output_type": "stream",
          "name": "stdout",
          "text": [
            "age:          15\n",
            "gender:       F\n",
            "name:         CJ\n",
            "is_adult:     False\n"
          ]
        }
      ]
    },
    {
      "cell_type": "code",
      "metadata": {
        "id": "Qu3Phoj2qL1c"
      },
      "source": [
        "# make a new class for Athlete that *inherits* from the class Human\n",
        "# which makes sense, since athletes are humans\n",
        "class Athlete(Human):\n",
        "    def __init__(self, age, height=None, weight=None, gender='F', name=None):\n",
        "        super().__init__(age, gender=gender, name=name)\n",
        "        self.height = height\n",
        "        self.weight = weight\n",
        "        self.compute_bmi()\n",
        "    # end __init__\n",
        "\n",
        "    def compute_bmi(self):\n",
        "        if self.height is None or self.weight is None:\n",
        "            self.bmi = None\n",
        "            self.bmi_category = None\n",
        "        else:\n",
        "            self.bmi = self.weight/(self.height**2)\n",
        "            self.bmi_category = 'healthy'\n",
        "            if self.bmi >= 25:\n",
        "                self.bmi_category = 'overweight'\n",
        "            elif self.bmi < 18.5:\n",
        "                self.bmi_category = 'underweight'\n",
        "    # end compute_bmi\n",
        "\n",
        "    def print_info(self):\n",
        "        super().print_info()\n",
        "        print('height:      ', self.height)\n",
        "        print('weight:      ', self.weight)\n",
        "        print('bmi:         ', self.bmi)\n",
        "        print('bmi cat.:    ', self.bmi_category)"
      ],
      "execution_count": null,
      "outputs": []
    },
    {
      "cell_type": "code",
      "metadata": {
        "colab": {
          "base_uri": "https://localhost:8080/"
        },
        "id": "nT2xWTECsVIO",
        "outputId": "9a8bda97-7927-44e5-fd4b-d17b75a4122a"
      },
      "source": [
        "# initialize an object of the class Athlete\n",
        "test_athlete = Athlete(21, height=1.7, weight=60)\n",
        "# check state\n",
        "test_athlete.print_info()"
      ],
      "execution_count": null,
      "outputs": [
        {
          "output_type": "stream",
          "name": "stdout",
          "text": [
            "age:          21\n",
            "gender:       F\n",
            "name:         None\n",
            "is_adult:     True\n",
            "height:       1.7\n",
            "weight:       60\n",
            "bmi:          20.761245674740486\n",
            "bmi cat.:     healthy\n"
          ]
        }
      ]
    }
  ]
}